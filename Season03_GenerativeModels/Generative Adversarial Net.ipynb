{
 "cells": [
  {
   "cell_type": "markdown",
   "metadata": {},
   "source": [
    "# Tutorial of implementing Generative Adversarial Net\n",
    "mnist image에 대하여 Generative Adversarial Net을 학습하고, 학습된 Generator를 이용하여 mnist image를 Generate 해보는 예제\n",
    "  \n",
    "* Paper \n",
    "    * [Generative Adversarial Nets](https://papers.nips.cc/paper/5423-generative-adversarial-nets.pdf)\n",
    "* Reference\n",
    "    * https://github.com/golbin/TensorFlow-Tutorials/blob/master/09%20-%20GAN/01%20-%20GAN.py\n",
    "    * https://github.com/hwalsuklee/tensorflow-generative-model-collections/blob/master/GAN.py\n",
    "    * https://wiseodd.github.io/techblog/2016/09/17/gan-tensorflow/"
   ]
  },
  {
   "cell_type": "markdown",
   "metadata": {},
   "source": [
    "### Setup"
   ]
  },
  {
   "cell_type": "code",
   "execution_count": 1,
   "metadata": {},
   "outputs": [
    {
     "name": "stderr",
     "output_type": "stream",
     "text": [
      "c:\\python36\\lib\\site-packages\\h5py\\__init__.py:36: FutureWarning: Conversion of the second argument of issubdtype from `float` to `np.floating` is deprecated. In future, it will be treated as `np.float64 == np.dtype(float).type`.\n",
      "  from ._conv import register_converters as _register_converters\n"
     ]
    },
    {
     "name": "stdout",
     "output_type": "stream",
     "text": [
      "Extracting ./data/MNIST_data/train-images-idx3-ubyte.gz\n",
      "Extracting ./data/MNIST_data/train-labels-idx1-ubyte.gz\n",
      "Extracting ./data/MNIST_data/t10k-images-idx3-ubyte.gz\n",
      "Extracting ./data/MNIST_data/t10k-labels-idx1-ubyte.gz\n",
      "1.6.0\n"
     ]
    }
   ],
   "source": [
    "import os, sys\n",
    "import tensorflow as tf\n",
    "import numpy as np\n",
    "import matplotlib.pyplot as plt\n",
    "import matplotlib.gridspec as gridspec\n",
    "%matplotlib inline\n",
    "from tensorflow.examples.tutorials.mnist import input_data # load mnist dataset\n",
    "mnist = input_data.read_data_sets(train_dir = './data/MNIST_data/', one_hot = True, reshape = True, seed = 777)\n",
    "print(tf.__version__)\n",
    "\n",
    "slim = tf.contrib.slim"
   ]
  },
  {
   "cell_type": "markdown",
   "metadata": {},
   "source": [
    "### Define GAN class"
   ]
  },
  {
   "cell_type": "code",
   "execution_count": 2,
   "metadata": {},
   "outputs": [],
   "source": [
    "class Generator:\n",
    "    def __init__(self, input_dim, h_dims = [256]):\n",
    "        self._input_dim = input_dim\n",
    "        self._h_dims = h_dims\n",
    "        \n",
    "    def __call__(self, z):\n",
    "        with tf.variable_scope('generator', reuse = tf.AUTO_REUSE):\n",
    "            _net = z\n",
    "            \n",
    "            with slim.arg_scope([slim.fully_connected], activation_fn = tf.nn.tanh,\n",
    "                                weights_initializer = slim.xavier_initializer()):\n",
    "            \n",
    "                for layer, h_dim in enumerate(self._h_dims):\n",
    "                    with tf.variable_scope('hidden_layer{}'.format(layer + 1)):\n",
    "                        _net = slim.fully_connected(inputs = _net, num_outputs = h_dim)\n",
    "                        \n",
    "                with tf.variable_scope('output_layer'):\n",
    "                    _output = slim.fully_connected(inputs = _net, num_outputs = self._input_dim,\n",
    "                                               activation_fn = tf.nn.sigmoid)\n",
    "        return _output"
   ]
  },
  {
   "cell_type": "code",
   "execution_count": 3,
   "metadata": {},
   "outputs": [],
   "source": [
    "class Discriminator:\n",
    "    def __init__(self, h_dims = [256]):\n",
    "        self._h_dims = h_dims\n",
    "        \n",
    "    def __call__(self, inputs):\n",
    "        with tf.variable_scope('discriminator', reuse = tf.AUTO_REUSE):\n",
    "            _net = inputs\n",
    "            \n",
    "            with slim.arg_scope([slim.fully_connected], activation_fn = tf.nn.tanh,\n",
    "                                 weights_initializer = slim.xavier_initializer()):\n",
    "                \n",
    "                for layer, h_dim in enumerate(self._h_dims):\n",
    "                    with tf.variable_scope('hidden_layer{}'.format(layer + 1)):\n",
    "                        _net = slim.fully_connected(inputs = _net, num_outputs = h_dim)\n",
    "                        \n",
    "                with tf.variable_scope('output_layer'):\n",
    "                    _score = slim.fully_connected(inputs = _net, num_outputs = 1,\n",
    "                                                         activation_fn = None)\n",
    "        return _score"
   ]
  },
  {
   "cell_type": "code",
   "execution_count": 4,
   "metadata": {},
   "outputs": [],
   "source": [
    "class GAN:\n",
    "    def __init__(self, z_dim, input_dim, g_h_dims, d_h_dims):\n",
    "       \n",
    "        self._z = tf.placeholder(dtype = tf.float32, shape = [None, z_dim])\n",
    "        self._inputs = tf.placeholder(dtype = tf.float32, shape = [None, input_dim])\n",
    "\n",
    "        \n",
    "        self._generator = Generator(input_dim = input_dim, h_dims = g_h_dims)\n",
    "        self._discriminator = Discriminator(h_dims = d_h_dims)\n",
    "\n",
    "        self._fake = self._generator(z = self._z)\n",
    "        \n",
    "        d_logits_real = self._discriminator(inputs = self._inputs)\n",
    "        d_logits_fake = self._discriminator(inputs = self._fake)\n",
    "        \n",
    "        d_loss_real = tf.reduce_mean(tf.nn.sigmoid_cross_entropy_with_logits(logits = d_logits_real, labels = tf.ones_like(d_logits_real)))\n",
    "        d_loss_fake = tf.reduce_mean(tf.nn.sigmoid_cross_entropy_with_logits(logits = d_logits_fake, labels = tf.zeros_like(d_logits_fake)))\n",
    "                \n",
    "        self._loss_D = d_loss_real + d_loss_fake\n",
    "        self._loss_G = tf.reduce_mean(tf.nn.sigmoid_cross_entropy_with_logits(logits = d_logits_fake, labels = tf.ones_like(d_logits_fake)))\n",
    "\n",
    "    def generate(self, sess, z):\n",
    "        feed_generate = {self._z : z}\n",
    "        return sess.run(fetches = self._fake, feed_dict = feed_generate)"
   ]
  },
  {
   "cell_type": "markdown",
   "metadata": {},
   "source": [
    "### Define Solver"
   ]
  },
  {
   "cell_type": "code",
   "execution_count": 5,
   "metadata": {},
   "outputs": [],
   "source": [
    "class SolverForDiscriminator:\n",
    "    def __init__(self, model, optimizer = tf.train.AdamOptimizer):\n",
    "        self._model = model\n",
    "        self._lr = tf.placeholder(dtype = tf.float32)\n",
    "        self._optimizer = optimizer(learning_rate = self._lr)\n",
    "        self._training_op = self._optimizer.minimize(loss = self._model._loss_D,\n",
    "                                                         var_list = tf.get_collection(tf.GraphKeys.TRAINABLE_VARIABLES,\n",
    "                                                                                      scope = 'discriminator'))\n",
    "    def train(self, sess, z, inputs, lr):\n",
    "        feed_train = {self._model._z : z, self._model._inputs : inputs, self._lr : lr}\n",
    "        return sess.run(fetches = [self._training_op, self._model._loss_D], feed_dict = feed_train)"
   ]
  },
  {
   "cell_type": "code",
   "execution_count": 6,
   "metadata": {},
   "outputs": [],
   "source": [
    "class SolverForGenerator:\n",
    "    def __init__(self, model, optimizer = tf.train.AdamOptimizer):\n",
    "        self._model = model\n",
    "        self._lr = tf.placeholder(dtype = tf.float32)\n",
    "        self._optimizer = optimizer(learning_rate = self._lr)\n",
    "        \n",
    "        self._training_op = self._optimizer.minimize(loss = self._model._loss_G,\n",
    "                                                         var_list = tf.get_collection(tf.GraphKeys.TRAINABLE_VARIABLES,\n",
    "                                                                                      scope = 'generator'))\n",
    "    def train(self, sess, z, lr):\n",
    "        feed_train = {self._model._z : z, self._lr : lr}\n",
    "        return sess.run(fetches = [self._training_op, self._model._loss_G], feed_dict = feed_train)"
   ]
  },
  {
   "cell_type": "markdown",
   "metadata": {},
   "source": [
    "### Training"
   ]
  },
  {
   "cell_type": "code",
   "execution_count": 7,
   "metadata": {},
   "outputs": [],
   "source": [
    "gan = GAN(z_dim = 50, input_dim = 784, g_h_dims = [100], d_h_dims = [100])"
   ]
  },
  {
   "cell_type": "code",
   "execution_count": 8,
   "metadata": {},
   "outputs": [],
   "source": [
    "solver_for_g = SolverForGenerator(model = gan)\n",
    "solver_for_d = SolverForDiscriminator(model = gan)"
   ]
  },
  {
   "cell_type": "code",
   "execution_count": 9,
   "metadata": {},
   "outputs": [],
   "source": [
    "#hyper-parameter\n",
    "epochs = 25\n",
    "batch_size = 100\n",
    "total_batch = int(mnist.train.num_examples / batch_size)"
   ]
  },
  {
   "cell_type": "code",
   "execution_count": 10,
   "metadata": {},
   "outputs": [],
   "source": [
    "sess = tf.Session()\n",
    "sess.run(tf.global_variables_initializer())"
   ]
  },
  {
   "cell_type": "code",
   "execution_count": 11,
   "metadata": {},
   "outputs": [
    {
     "name": "stdout",
     "output_type": "stream",
     "text": [
      "epoch :   0. D loss : 0.071, G loss : 5.936\n",
      "epoch :   1. D loss : 0.061, G loss : 10.027\n",
      "epoch :   2. D loss : 0.175, G loss : 7.754\n",
      "epoch :   3. D loss : 0.332, G loss : 6.800\n",
      "epoch :   4. D loss : 0.332, G loss : 6.399\n",
      "epoch :   5. D loss : 0.187, G loss : 3.276\n",
      "epoch :   6. D loss : 0.190, G loss : 2.818\n",
      "epoch :   7. D loss : 0.234, G loss : 2.663\n",
      "epoch :   8. D loss : 0.239, G loss : 2.595\n",
      "epoch :   9. D loss : 0.296, G loss : 2.361\n",
      "epoch :  10. D loss : 0.281, G loss : 2.370\n",
      "epoch :  11. D loss : 0.272, G loss : 2.454\n",
      "epoch :  12. D loss : 0.287, G loss : 2.363\n",
      "epoch :  13. D loss : 0.276, G loss : 2.405\n",
      "epoch :  14. D loss : 0.280, G loss : 2.416\n",
      "epoch :  15. D loss : 0.245, G loss : 2.535\n",
      "epoch :  16. D loss : 0.232, G loss : 2.581\n",
      "epoch :  17. D loss : 0.230, G loss : 2.664\n",
      "epoch :  18. D loss : 0.220, G loss : 2.727\n",
      "epoch :  19. D loss : 0.218, G loss : 2.733\n",
      "epoch :  20. D loss : 0.231, G loss : 2.683\n",
      "epoch :  21. D loss : 0.226, G loss : 2.707\n",
      "epoch :  22. D loss : 0.204, G loss : 2.853\n",
      "epoch :  23. D loss : 0.201, G loss : 2.920\n",
      "epoch :  24. D loss : 0.219, G loss : 2.858\n"
     ]
    }
   ],
   "source": [
    "# training\n",
    "loss_D_hist = []\n",
    "loss_G_hist = []\n",
    "sampled = []\n",
    "\n",
    "for epoch in range(epochs):\n",
    "    avg_loss_D, avg_loss_G = 0, 0\n",
    "    \n",
    "    for step in range(total_batch):\n",
    "        batch_xs, _ = mnist.train.next_batch(batch_size = batch_size)\n",
    "        noise = np.random.randn(batch_size, 50)\n",
    "        \n",
    "        _, loss_D = solver_for_d.train(sess = sess, z = noise, inputs = batch_xs, lr = 1e-4)\n",
    "        _, loss_G = solver_for_g.train(sess = sess, z = noise, lr = 1e-4)\n",
    "        avg_loss_D += loss_D / total_batch \n",
    "        avg_loss_G += loss_G / total_batch\n",
    "        \n",
    "    print('epoch : {:3}. D loss : {:.3f}, G loss : {:.3f}'.format(epoch, avg_loss_D, avg_loss_G))\n",
    "    loss_D_hist.append(avg_loss_D)\n",
    "    loss_G_hist.append(avg_loss_G)\n",
    "    \n",
    "    if (epoch + 1) % 5 == 0:\n",
    "        sampled.append(gan.generate(sess = sess, z = np.random.randn(5,50)))"
   ]
  },
  {
   "cell_type": "code",
   "execution_count": 12,
   "metadata": {},
   "outputs": [
    {
     "data": {
      "text/plain": [
       "<matplotlib.legend.Legend at 0x17431420b70>"
      ]
     },
     "execution_count": 12,
     "metadata": {},
     "output_type": "execute_result"
    },
    {
     "data": {
      "image/png": "[encoded data removed]",
      "text/plain": [
       "<matplotlib.figure.Figure at 0x17423b93dd8>"
      ]
     },
     "metadata": {},
     "output_type": "display_data"
    }
   ],
   "source": [
    "# visualize loss\n",
    "fig = plt.figure(figsize = (15,6))\n",
    "fig.subplots_adjust(right = .8)\n",
    "fig.add_subplot(1,2,1)\n",
    "plt.plot(loss_D_hist, label = 'D', c = 'b')\n",
    "plt.legend()\n",
    "\n",
    "fig.add_subplot(1,2,2)\n",
    "plt.plot(loss_G_hist, label = 'G', c= 'r')\n",
    "plt.legend()"
   ]
  },
  {
   "cell_type": "code",
   "execution_count": 13,
   "metadata": {},
   "outputs": [
    {
     "data": {
      "image/png": "[encoded data removed]",
      "text/plain": [
       "<matplotlib.figure.Figure at 0x17423ba07f0>"
      ]
     },
     "metadata": {},
     "output_type": "display_data"
    }
   ],
   "source": [
    "# epoch 5마다 Generator가 random noise로 부터 생성한 손글씨 plot\n",
    "for i in range(np.shape(sampled)[0]):\n",
    "    for j in range(np.shape(sampled)[1]):\n",
    "        plt.subplot2grid((np.shape(sampled)[0],np.shape(sampled)[1]),(i,j))\n",
    "        plt.axis('off')\n",
    "        plt.imshow(sampled[i][j].reshape(28,28), cmap = 'gray')"
   ]
  }
 ],
 "metadata": {
  "kernelspec": {
   "display_name": "Python 3",
   "language": "python",
   "name": "python3"
  },
  "language_info": {
   "codemirror_mode": {
    "name": "ipython",
    "version": 3
   },
   "file_extension": ".py",
   "mimetype": "text/x-python",
   "name": "python",
   "nbconvert_exporter": "python",
   "pygments_lexer": "ipython3",
   "version": "3.6.3"
  },
  "varInspector": {
   "cols": {
    "lenName": 16,
    "lenType": 16,
    "lenVar": 40
   },
   "kernels_config": {
    "python": {
     "delete_cmd_postfix": "",
     "delete_cmd_prefix": "del ",
     "library": "var_list.py",
     "varRefreshCmd": "print(var_dic_list())"
    },
    "r": {
     "delete_cmd_postfix": ") ",
     "delete_cmd_prefix": "rm(",
     "library": "var_list.r",
     "varRefreshCmd": "cat(var_dic_list()) "
    }
   },
   "types_to_exclude": [
    "module",
    "function",
    "builtin_function_or_method",
    "instance",
    "_Feature"
   ],
   "window_display": false
  }
 },
 "nbformat": 4,
 "nbformat_minor": 2
}
